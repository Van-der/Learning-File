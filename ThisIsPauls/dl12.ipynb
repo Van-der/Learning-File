{
 "cells": [
  {
   "cell_type": "code",
   "execution_count": null,
   "id": "4077755b",
   "metadata": {},
   "outputs": [],
   "source": [
    "import numpy as np\n",
    "import tensorflow as tf\n",
    "import pandas as pd\n",
    "import matplotlib.pyplot as plt\n",
    "from tensorflow import keras\n",
    "%matplotlin inline"
   ]
  },
  {
   "cell_type": "code",
   "execution_count": null,
   "id": "75625f15",
   "metadata": {},
   "outputs": [],
   "source": [
    "print(\"TensorFlow version:\", tf.__version__)"
   ]
  }
 ],
 "metadata": {
  "kernelspec": {
   "display_name": ".venv",
   "language": "python",
   "name": "python3"
  },
  "language_info": {
   "name": "python",
   "version": "3.12.3"
  }
 },
 "nbformat": 4,
 "nbformat_minor": 5
}
